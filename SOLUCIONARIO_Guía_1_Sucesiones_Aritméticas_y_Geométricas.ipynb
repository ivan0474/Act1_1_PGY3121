{
  "nbformat": 4,
  "nbformat_minor": 0,
  "metadata": {
    "colab": {
      "name": "SOLUCIONARIO Guía 1 Sucesiones Aritméticas y Geométricas.ipynb",
      "provenance": [],
      "collapsed_sections": [],
      "include_colab_link": true
    },
    "kernelspec": {
      "name": "python3",
      "display_name": "Python 3"
    }
  },
  "cells": [
    {
      "cell_type": "markdown",
      "metadata": {
        "id": "view-in-github",
        "colab_type": "text"
      },
      "source": [
        "<a href=\"https://colab.research.google.com/github/ivan0474/Act1_1_PGY3121/blob/main/SOLUCIONARIO_Gu%C3%ADa_1_Sucesiones_Aritm%C3%A9ticas_y_Geom%C3%A9tricas.ipynb\" target=\"_parent\"><img src=\"https://colab.research.google.com/assets/colab-badge.svg\" alt=\"Open In Colab\"/></a>"
      ]
    },
    {
      "cell_type": "markdown",
      "metadata": {
        "id": "0vTZh_-Hg9qI"
      },
      "source": [
        "# **SUCESIONES ARITMÉTICAS**"
      ]
    },
    {
      "cell_type": "markdown",
      "metadata": {
        "id": "YZKkyC0Cml_Y"
      },
      "source": [
        "# **Ejercicio 11**"
      ]
    },
    {
      "cell_type": "markdown",
      "metadata": {
        "id": "vaBlTQ2mguQe"
      },
      "source": [
        "Considere la sucesión aritmética 25,72; 26,93; 28,14;... Determine:\n",
        "\n",
        "a) La diferencia aritmética.\n",
        "\n",
        "b) La expresión algebraica del término de lugar n.\n",
        "\n",
        "c) Calcule el término del lugar 50 con dos códigos de Python diferentes. El\n",
        "primero de ellos con la expresión algebraica del término de lugar n y el\n",
        "segundo de manera recursiva y compare los tiempos de ejecución.\n",
        "\n",
        "d) ¿Qué lugar ocupa en esta sucesión el término 411,71?"
      ]
    },
    {
      "cell_type": "code",
      "source": [
        "# a)\n",
        "a1 = 25.72\n",
        "a2 = 26.93\n",
        "a3 = 28.14\n",
        "\n",
        "d1 = a3-a2\n",
        "d2 = a2-a1\n",
        "print(d1,d2)\n",
        "d = 1.21"
      ],
      "metadata": {
        "colab": {
          "base_uri": "https://localhost:8080/"
        },
        "id": "UQpYXsMJHFHl",
        "outputId": "b32b5391-1e78-41ab-ccce-e04fb56d8d15"
      },
      "execution_count": null,
      "outputs": [
        {
          "output_type": "stream",
          "name": "stdout",
          "text": [
            "1.2100000000000009 1.2100000000000009\n"
          ]
        }
      ]
    },
    {
      "cell_type": "code",
      "source": [
        "# b) an = 25.72 + (n-1)*1.21"
      ],
      "metadata": {
        "id": "sZBf3FV2T0TN"
      },
      "execution_count": null,
      "outputs": []
    },
    {
      "cell_type": "code",
      "source": [
        "# c)\n",
        "a50 = 25.72 + (50-1)*1.21\n",
        "print(a50)"
      ],
      "metadata": {
        "colab": {
          "base_uri": "https://localhost:8080/"
        },
        "id": "72k3viadT799",
        "outputId": "712deef8-0b27-420a-9024-c752634588e3"
      },
      "execution_count": null,
      "outputs": [
        {
          "output_type": "stream",
          "name": "stdout",
          "text": [
            "85.00999999999999\n"
          ]
        }
      ]
    },
    {
      "cell_type": "code",
      "source": [
        "a = []\n",
        "for i in range(1):\n",
        "  n = i + 50\n",
        "  a.append(25.72 + (n-1)*1.21)\n",
        "  print(f\"a({n})={a[i]}\")"
      ],
      "metadata": {
        "colab": {
          "base_uri": "https://localhost:8080/"
        },
        "id": "CBBzYT1fUe4O",
        "outputId": "7997a676-b46a-409e-dd40-34fbfe02dc53"
      },
      "execution_count": null,
      "outputs": [
        {
          "output_type": "stream",
          "name": "stdout",
          "text": [
            "a(50)=85.00999999999999\n"
          ]
        }
      ]
    },
    {
      "cell_type": "code",
      "source": [
        "a = []\n",
        "for i in range(10):\n",
        "  n = i + 315\n",
        "  a.append(25.72 + (n-1)*1.21)\n",
        "  print(f\"a({n})={a[i]}\")"
      ],
      "metadata": {
        "colab": {
          "base_uri": "https://localhost:8080/"
        },
        "id": "FI6kVTJAVaIe",
        "outputId": "cd46d7fc-67b7-47a7-9703-7d3bd7b708ba"
      },
      "execution_count": null,
      "outputs": [
        {
          "output_type": "stream",
          "name": "stdout",
          "text": [
            "a(315)=405.65999999999997\n",
            "a(316)=406.87\n",
            "a(317)=408.08000000000004\n",
            "a(318)=409.28999999999996\n",
            "a(319)=410.5\n",
            "a(320)=411.71000000000004\n",
            "a(321)=412.91999999999996\n",
            "a(322)=414.13\n",
            "a(323)=415.34000000000003\n",
            "a(324)=416.54999999999995\n"
          ]
        }
      ]
    },
    {
      "cell_type": "markdown",
      "metadata": {
        "id": "TqsThN3wmrko"
      },
      "source": [
        "# **Ejercicio 12**"
      ]
    },
    {
      "cell_type": "markdown",
      "metadata": {
        "id": "zvdwKqNMg3P9"
      },
      "source": [
        "En una sucesión aritmética, la diferencia entre un término y el anterior es 4 y el décimo término es −20. Determine:\n",
        "\n",
        "a) El primer término.\n",
        "\n",
        "b) La expresión del término de lugar n.\n",
        "\n",
        "c) El término que ocupa el lugar 100. Utilice un código de forma recursiva y\n",
        "otro con el término de lugar n.\n",
        "\n",
        "d) ¿Qué lugar ocupa en esta sucesión el término 1.680?"
      ]
    },
    {
      "cell_type": "code",
      "source": [
        "a1 = -20 - (10-1)*4\n",
        "print(a1)"
      ],
      "metadata": {
        "colab": {
          "base_uri": "https://localhost:8080/"
        },
        "id": "pZGPprTWHGlE",
        "outputId": "8cc0888b-8396-4ece-b909-8abf131cb4f2"
      },
      "execution_count": null,
      "outputs": [
        {
          "output_type": "stream",
          "name": "stdout",
          "text": [
            "-56\n"
          ]
        }
      ]
    },
    {
      "cell_type": "code",
      "source": [
        "#b) an = -56 + (n-1)*4"
      ],
      "metadata": {
        "id": "Y2viBeLtYr0Y"
      },
      "execution_count": null,
      "outputs": []
    },
    {
      "cell_type": "code",
      "source": [
        "# c)\n",
        "a100 = -56 + (100-1)*4\n",
        "print(a100)"
      ],
      "metadata": {
        "colab": {
          "base_uri": "https://localhost:8080/"
        },
        "id": "y9e3LtcrYxfQ",
        "outputId": "b2e42fff-b55d-435c-ba4c-67cf285dacac"
      },
      "execution_count": null,
      "outputs": [
        {
          "output_type": "stream",
          "name": "stdout",
          "text": [
            "340\n"
          ]
        }
      ]
    },
    {
      "cell_type": "code",
      "source": [
        "# d)\n",
        "a = []\n",
        "for i in range(10):\n",
        "  n = i + 430\n",
        "  a.append(-56 + (n-1)*4)\n",
        "  print(f\"a({n})={a[i]}\")"
      ],
      "metadata": {
        "colab": {
          "base_uri": "https://localhost:8080/"
        },
        "id": "nBPLwj6gY95v",
        "outputId": "4f0d9520-ff2f-4b5b-d3bf-0e2ddaa419a4"
      },
      "execution_count": null,
      "outputs": [
        {
          "output_type": "stream",
          "name": "stdout",
          "text": [
            "a(430)=1660\n",
            "a(431)=1664\n",
            "a(432)=1668\n",
            "a(433)=1672\n",
            "a(434)=1676\n",
            "a(435)=1680\n",
            "a(436)=1684\n",
            "a(437)=1688\n",
            "a(438)=1692\n",
            "a(439)=1696\n"
          ]
        }
      ]
    },
    {
      "cell_type": "markdown",
      "source": [
        "**Ejercicio Adicional**"
      ],
      "metadata": {
        "id": "GPW6L-V3JAcj"
      }
    },
    {
      "cell_type": "markdown",
      "source": [
        "Para la secuencia $t_{n}$ = 6 , 10 , 14, encuentre:\n",
        "\n",
        "a) La diferencia aritmética\n",
        "\n",
        "b) La expresión general\n",
        "\n",
        "c) El término que se ubica en la posición 20\n",
        "\n",
        "d) ¿En qué posición se ubica el término 202?"
      ],
      "metadata": {
        "id": "EmMnAZkoIj1F"
      }
    },
    {
      "cell_type": "code",
      "source": [
        "# a)\n",
        "a1 = 6\n",
        "a2 = 10\n",
        "a3 = 14\n",
        "\n",
        "d1 = a3-a2\n",
        "d2 = a2-a1\n",
        "print(d1,d2)\n",
        "d = 4"
      ],
      "metadata": {
        "colab": {
          "base_uri": "https://localhost:8080/"
        },
        "id": "FnPg-CrFHIL8",
        "outputId": "174609ef-052a-4e02-df91-5548813d9f6a"
      },
      "execution_count": null,
      "outputs": [
        {
          "output_type": "stream",
          "name": "stdout",
          "text": [
            "4 4\n"
          ]
        }
      ]
    },
    {
      "cell_type": "code",
      "source": [
        "# an = 6 + (n-1)*4"
      ],
      "metadata": {
        "id": "cB1ZbLiBaZsZ"
      },
      "execution_count": null,
      "outputs": []
    },
    {
      "cell_type": "code",
      "source": [
        "a20 = 6 + (20-1)*4\n",
        "print(a20)"
      ],
      "metadata": {
        "colab": {
          "base_uri": "https://localhost:8080/"
        },
        "id": "EvhhsKrVadF5",
        "outputId": "12451f65-7628-47d7-d67d-909e44f0412b"
      },
      "execution_count": null,
      "outputs": [
        {
          "output_type": "stream",
          "name": "stdout",
          "text": [
            "82\n"
          ]
        }
      ]
    },
    {
      "cell_type": "code",
      "source": [
        "# d)\n",
        "a = []\n",
        "for i in range(10):\n",
        "  n = i + 48\n",
        "  a.append(6 + (n-1)*4)\n",
        "  print(f\"a({n})={a[i]}\")"
      ],
      "metadata": {
        "colab": {
          "base_uri": "https://localhost:8080/"
        },
        "id": "4ypIa1LAaoXo",
        "outputId": "6acef53d-856a-4c34-d8c1-e26d0b2b8949"
      },
      "execution_count": null,
      "outputs": [
        {
          "output_type": "stream",
          "name": "stdout",
          "text": [
            "a(48)=194\n",
            "a(49)=198\n",
            "a(50)=202\n",
            "a(51)=206\n",
            "a(52)=210\n",
            "a(53)=214\n",
            "a(54)=218\n",
            "a(55)=222\n",
            "a(56)=226\n",
            "a(57)=230\n"
          ]
        }
      ]
    },
    {
      "cell_type": "markdown",
      "metadata": {
        "id": "0QZbTpf0G26B"
      },
      "source": [
        "# **SUCESIONES GEOMÉTRICAS**"
      ]
    },
    {
      "cell_type": "markdown",
      "metadata": {
        "id": "WmsZsRW4G8_2"
      },
      "source": [
        "# **Ejercicio 13**"
      ]
    },
    {
      "cell_type": "markdown",
      "metadata": {
        "id": "Dzh95y_ZG_4X"
      },
      "source": [
        "Considere la sucesión geométrica: 4, 6, 9, . . . Determine:\n",
        "\n",
        "a) La razón geométrica.\n",
        "\n",
        "b) La expresión del término de lugar n.\n",
        "\n",
        "c) El término de lugar 60. Calcule con la forma directa y con la forma\n",
        "recursiva, compare los tiempos de ejecución.\n",
        "\n",
        "d) ¿Qué lugar ocupa en esta sucesión el término 68,34375? Use logaritmo"
      ]
    },
    {
      "cell_type": "code",
      "source": [
        "# a)\n",
        "a1 = 4\n",
        "a2 = 6\n",
        "a3 = 9\n",
        "\n",
        "r1 = a3/a2\n",
        "r2 = a2/a1\n",
        "print(r1,r2)\n",
        "\n",
        "r = 1.5"
      ],
      "metadata": {
        "id": "ZUiM1Zib8rDm",
        "colab": {
          "base_uri": "https://localhost:8080/"
        },
        "outputId": "171e7804-047f-4c58-bd5b-3d0fa3c0f2c6"
      },
      "execution_count": null,
      "outputs": [
        {
          "output_type": "stream",
          "name": "stdout",
          "text": [
            "1.5 1.5\n"
          ]
        }
      ]
    },
    {
      "cell_type": "code",
      "source": [
        "# an = 4*1.5**(n-1)"
      ],
      "metadata": {
        "id": "S7zkloSF9R1k"
      },
      "execution_count": null,
      "outputs": []
    },
    {
      "cell_type": "code",
      "source": [
        "a60 = 4*1.5**(60-1)\n",
        "print(a60)"
      ],
      "metadata": {
        "colab": {
          "base_uri": "https://localhost:8080/"
        },
        "id": "MW7nZEMs9XzG",
        "outputId": "df537a1e-9047-4807-b8f2-8d98df4ddc83"
      },
      "execution_count": null,
      "outputs": [
        {
          "output_type": "stream",
          "name": "stdout",
          "text": [
            "98049249911.8214\n"
          ]
        }
      ]
    },
    {
      "cell_type": "code",
      "source": [
        "import math\n",
        "\n",
        "an = 68.34375\n",
        "a1 = 4\n",
        "r = 1.5\n",
        "n = math.log(an/a1, r) + 1\n",
        "print(n)"
      ],
      "metadata": {
        "colab": {
          "base_uri": "https://localhost:8080/"
        },
        "id": "AvJFzU4V9hsO",
        "outputId": "deb07a7f-83e7-48a0-a065-46244a16bd1f"
      },
      "execution_count": null,
      "outputs": [
        {
          "output_type": "stream",
          "name": "stdout",
          "text": [
            "7.999999999999999\n"
          ]
        }
      ]
    },
    {
      "cell_type": "code",
      "source": [
        "# forma 2\n",
        "a = []\n",
        "for i in range(10):\n",
        "  n = i + 1\n",
        "  a.append(4*1.5**(n-1))\n",
        "  print(f\"a({n})={a[i]}\")"
      ],
      "metadata": {
        "colab": {
          "base_uri": "https://localhost:8080/"
        },
        "id": "JBn6vfyy-cP-",
        "outputId": "2cf012f8-2146-49a4-aea5-e437a25aaf7e"
      },
      "execution_count": null,
      "outputs": [
        {
          "output_type": "stream",
          "name": "stdout",
          "text": [
            "a(1)=4.0\n",
            "a(2)=6.0\n",
            "a(3)=9.0\n",
            "a(4)=13.5\n",
            "a(5)=20.25\n",
            "a(6)=30.375\n",
            "a(7)=45.5625\n",
            "a(8)=68.34375\n",
            "a(9)=102.515625\n",
            "a(10)=153.7734375\n"
          ]
        }
      ]
    },
    {
      "cell_type": "markdown",
      "metadata": {
        "id": "bQQ293dHIqAH"
      },
      "source": [
        "# **Problema 14**"
      ]
    },
    {
      "cell_type": "markdown",
      "metadata": {
        "id": "MAluQ17HKQh4"
      },
      "source": [
        "El tercer término de una sucesión geométrica es 5 y el sexto término es 40.\n",
        "Determine:\n",
        "\n",
        "a) La razón geométrica. Analice cuántos pasos hay entre ambos términos que\n",
        "se indican.\n",
        "\n",
        "b) El primer término.\n",
        "\n",
        "c) La expresión del término de lugar n.\n",
        "\n",
        "d) El octavo término. Calcule con la forma que estime conveniente.\n",
        "\n",
        "e) ¿Qué lugar ocupa en esta sucesión el término 20.480? Use logaritmo."
      ]
    },
    {
      "cell_type": "code",
      "source": [
        "an = 5\n",
        "r = 2\n",
        "n = 3\n",
        "a1 = an/r**(n-1)\n",
        "print(a1)"
      ],
      "metadata": {
        "id": "Q7WQHTQZ8rk-",
        "colab": {
          "base_uri": "https://localhost:8080/"
        },
        "outputId": "2c353269-67dd-4fc3-f26a-2a1546986d17"
      },
      "execution_count": null,
      "outputs": [
        {
          "output_type": "stream",
          "name": "stdout",
          "text": [
            "1.25\n"
          ]
        }
      ]
    },
    {
      "cell_type": "code",
      "source": [
        "# an = 1.25*2**(n-1)"
      ],
      "metadata": {
        "id": "9VSqMVAi_lAP"
      },
      "execution_count": null,
      "outputs": []
    },
    {
      "cell_type": "code",
      "source": [
        "a8 = 1.25*2**(8-1)\n",
        "print(a8)"
      ],
      "metadata": {
        "colab": {
          "base_uri": "https://localhost:8080/"
        },
        "id": "V513b-dm_rnQ",
        "outputId": "60b04cef-ef59-4155-fe3e-d4414850935e"
      },
      "execution_count": null,
      "outputs": [
        {
          "output_type": "stream",
          "name": "stdout",
          "text": [
            "160.0\n"
          ]
        }
      ]
    },
    {
      "cell_type": "code",
      "source": [
        "import math\n",
        "\n",
        "an = 20480\n",
        "a1 = 1.25\n",
        "r = 2\n",
        "n = math.log(an/a1, r) + 1\n",
        "print(n)"
      ],
      "metadata": {
        "colab": {
          "base_uri": "https://localhost:8080/"
        },
        "id": "dpyQD-eD_yKF",
        "outputId": "0b21da59-ea2c-4308-af45-41807d77d2c8"
      },
      "execution_count": null,
      "outputs": [
        {
          "output_type": "stream",
          "name": "stdout",
          "text": [
            "15.0\n"
          ]
        }
      ]
    },
    {
      "cell_type": "code",
      "source": [
        "# forma 2\n",
        "a = []\n",
        "for i in range(10):\n",
        "  n = i + 10\n",
        "  a.append(1.25*2**(n-1))\n",
        "  print(f\"a({n})={a[i]}\")"
      ],
      "metadata": {
        "colab": {
          "base_uri": "https://localhost:8080/"
        },
        "id": "29yLnra0AIRY",
        "outputId": "be3c1127-66a1-462b-a348-96798561f4d5"
      },
      "execution_count": null,
      "outputs": [
        {
          "output_type": "stream",
          "name": "stdout",
          "text": [
            "a(10)=640.0\n",
            "a(11)=1280.0\n",
            "a(12)=2560.0\n",
            "a(13)=5120.0\n",
            "a(14)=10240.0\n",
            "a(15)=20480.0\n",
            "a(16)=40960.0\n",
            "a(17)=81920.0\n",
            "a(18)=163840.0\n",
            "a(19)=327680.0\n"
          ]
        }
      ]
    },
    {
      "cell_type": "markdown",
      "source": [
        "# **Problema 16**"
      ],
      "metadata": {
        "id": "7WTLyMZa8NBr"
      }
    },
    {
      "cell_type": "markdown",
      "source": [
        "La tasa de crecimiento de la población de una ciudad es del 2% anual. Si la población actual es de 600.000 habitantes, se pide:\n",
        "\n",
        "a) Si $a_{n}$ representa la población al cabo de n años, determine los tres primeros términos de esta sucesión.\n",
        "\n",
        "b) Indicar qué tipo de sucesión modela la población de dicha ciudad. Justifique su respuesta.\n",
        "\n",
        "c) Escribir la expresión algebraica del término de lugar $a_{n}$.\n",
        "\n",
        "d) Determinar cuántos habitantes aproximadamente tendrá dentro de quince años.\n",
        "\n",
        "e) ¿Cuántos años aproximadamente deben transcurrir para que la población alcance los 1.351.320 habitantes?"
      ],
      "metadata": {
        "id": "ak6US3nDAmL4"
      }
    },
    {
      "cell_type": "code",
      "source": [
        "a0 = 600000\n",
        "a1 = a0*1.02\n",
        "a2 = a1*1.02\n",
        "a3 = a2*1.02\n",
        "print(a1,a2,a3)"
      ],
      "metadata": {
        "colab": {
          "base_uri": "https://localhost:8080/"
        },
        "id": "jM7GnCgnBBxX",
        "outputId": "92128329-096c-4bc3-d88b-4ea40dedf0b4"
      },
      "execution_count": null,
      "outputs": [
        {
          "output_type": "stream",
          "name": "stdout",
          "text": [
            "612000.0 624240.0 636724.8\n"
          ]
        }
      ]
    },
    {
      "cell_type": "code",
      "source": [
        "a1 = 612000\n",
        "a2 = 624240\n",
        "a3 = 636724.8\n",
        "\n",
        "r1 = a3/a2\n",
        "r2 = a2/a1\n",
        "print(r1,r2)\n",
        "\n",
        "r = 1.02\n",
        "\n",
        "# es una sucesión geométrica, ya que su razón es constante (r = 1.02)"
      ],
      "metadata": {
        "colab": {
          "base_uri": "https://localhost:8080/"
        },
        "id": "VnnmR_7JBd2h",
        "outputId": "fe97e939-65e2-4c3c-e0b4-a44f629d29b7"
      },
      "execution_count": null,
      "outputs": [
        {
          "output_type": "stream",
          "name": "stdout",
          "text": [
            "1.02 1.02\n"
          ]
        }
      ]
    },
    {
      "cell_type": "code",
      "source": [
        "# an = 612000*1.02**(n-1)"
      ],
      "metadata": {
        "id": "7WdNiuvTByWg"
      },
      "execution_count": null,
      "outputs": []
    },
    {
      "cell_type": "code",
      "source": [
        "a15 = 612000*1.02**(15-1)\n",
        "print(a15)"
      ],
      "metadata": {
        "colab": {
          "base_uri": "https://localhost:8080/"
        },
        "id": "uULMQwBVB46_",
        "outputId": "043c9ff2-8329-49ac-fa4e-90bb3fae24d2"
      },
      "execution_count": null,
      "outputs": [
        {
          "output_type": "stream",
          "name": "stdout",
          "text": [
            "807521.0029944779\n"
          ]
        }
      ]
    },
    {
      "cell_type": "code",
      "source": [
        "import math\n",
        "\n",
        "an = 1351320\n",
        "a1 = 612000\n",
        "r = 1.02\n",
        "n = math.log(an/a1, r) + 1\n",
        "print(n)"
      ],
      "metadata": {
        "colab": {
          "base_uri": "https://localhost:8080/"
        },
        "id": "uZ5N--bMCCNe",
        "outputId": "9095b725-5afc-48ae-9d9f-e69afc0aeb28"
      },
      "execution_count": null,
      "outputs": [
        {
          "output_type": "stream",
          "name": "stdout",
          "text": [
            "40.999989755774436\n"
          ]
        }
      ]
    },
    {
      "cell_type": "code",
      "source": [
        "# forma 2\n",
        "a = []\n",
        "for i in range(10):\n",
        "  n = i + 35\n",
        "  a.append(612000*1.02**(n-1))\n",
        "  print(f\"a({n})={a[i]}\")"
      ],
      "metadata": {
        "colab": {
          "base_uri": "https://localhost:8080/"
        },
        "id": "BmdCCcehCL1u",
        "outputId": "5f660758-30e6-40cd-9ccc-b8280c92bc09"
      },
      "execution_count": null,
      "outputs": [
        {
          "output_type": "stream",
          "name": "stdout",
          "text": [
            "a(35)=1199933.7315974738\n",
            "a(36)=1223932.4062294234\n",
            "a(37)=1248411.0543540118\n",
            "a(38)=1273379.2754410922\n",
            "a(39)=1298846.8609499137\n",
            "a(40)=1324823.798168912\n",
            "a(41)=1351320.2741322904\n",
            "a(42)=1378346.6796149365\n",
            "a(43)=1405913.613207235\n",
            "a(44)=1434031.8854713799\n"
          ]
        }
      ]
    }
  ]
}